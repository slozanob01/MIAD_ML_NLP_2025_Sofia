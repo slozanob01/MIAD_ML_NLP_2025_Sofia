{
 "cells": [
  {
   "cell_type": "markdown",
   "metadata": {},
   "source": [
    "![image info](https://raw.githubusercontent.com/albahnsen/MIAD_ML_and_NLP/main/images/banner_1.png)"
   ]
  },
  {
   "cell_type": "markdown",
   "metadata": {},
   "source": [
    "# Taller: Construcción e implementación de árboles de decisión y métodos de ensamblaje\n",
    "\n",
    "En este taller podrá poner en práctica los sus conocimientos sobre construcción e implementación de árboles de decisión y métodos de ensamblajes. El taller está constituido por 9 puntos, 5 relacionados con árboles de decisión (parte A) y 4 con métodos de ensamblaje (parte B)."
   ]
  },
  {
   "cell_type": "markdown",
   "metadata": {},
   "source": [
    "## Parte A - Árboles de decisión\n",
    "\n",
    "En esta parte del taller se usará el conjunto de datos de Capital Bikeshare de Kaggle, donde cada observación representa el alquiler de bicicletas durante una hora y día determinado. Para más detalles puede visitar los siguientes enlaces: [datos](https://archive.ics.uci.edu/ml/machine-learning-databases/00275/Bike-Sharing-Dataset.zip), [dicccionario de datos](https://archive.ics.uci.edu/ml/datasets/Bike+Sharing+Dataset#)."
   ]
  },
  {
   "cell_type": "markdown",
   "metadata": {},
   "source": [
    "### Datos prestamo de bicicletas"
   ]
  },
  {
   "cell_type": "code",
   "execution_count": 4,
   "metadata": {},
   "outputs": [],
   "source": [
    "import warnings\n",
    "warnings.filterwarnings('ignore')"
   ]
  },
  {
   "cell_type": "code",
   "execution_count": 6,
   "metadata": {},
   "outputs": [],
   "source": [
    "# Importación de librerías\n",
    "%matplotlib inline\n",
    "import pandas as pd\n",
    "import numpy as np\n",
    "from sklearn.model_selection import cross_val_score\n",
    "from sklearn.linear_model import LinearRegression\n",
    "from sklearn.tree import DecisionTreeRegressor, export_graphviz\n",
    "import matplotlib.pyplot as plt\n",
    "from sklearn.model_selection import train_test_split\n",
    "from sklearn.tree import DecisionTreeClassifier\n",
    "from sklearn.metrics import mean_squared_error\n",
    "from sklearn.linear_model import LogisticRegression\n",
    "#Agregué librerías"
   ]
  },
  {
   "cell_type": "code",
   "execution_count": 7,
   "metadata": {},
   "outputs": [
    {
     "data": {
      "text/html": [
       "<div>\n",
       "<style scoped>\n",
       "    .dataframe tbody tr th:only-of-type {\n",
       "        vertical-align: middle;\n",
       "    }\n",
       "\n",
       "    .dataframe tbody tr th {\n",
       "        vertical-align: top;\n",
       "    }\n",
       "\n",
       "    .dataframe thead th {\n",
       "        text-align: right;\n",
       "    }\n",
       "</style>\n",
       "<table border=\"1\" class=\"dataframe\">\n",
       "  <thead>\n",
       "    <tr style=\"text-align: right;\">\n",
       "      <th></th>\n",
       "      <th>season</th>\n",
       "      <th>holiday</th>\n",
       "      <th>workingday</th>\n",
       "      <th>weather</th>\n",
       "      <th>temp</th>\n",
       "      <th>atemp</th>\n",
       "      <th>humidity</th>\n",
       "      <th>windspeed</th>\n",
       "      <th>casual</th>\n",
       "      <th>registered</th>\n",
       "      <th>total</th>\n",
       "      <th>hour</th>\n",
       "    </tr>\n",
       "    <tr>\n",
       "      <th>datetime</th>\n",
       "      <th></th>\n",
       "      <th></th>\n",
       "      <th></th>\n",
       "      <th></th>\n",
       "      <th></th>\n",
       "      <th></th>\n",
       "      <th></th>\n",
       "      <th></th>\n",
       "      <th></th>\n",
       "      <th></th>\n",
       "      <th></th>\n",
       "      <th></th>\n",
       "    </tr>\n",
       "  </thead>\n",
       "  <tbody>\n",
       "    <tr>\n",
       "      <th>2011-01-01 00:00:00</th>\n",
       "      <td>1</td>\n",
       "      <td>0</td>\n",
       "      <td>0</td>\n",
       "      <td>1</td>\n",
       "      <td>9.84</td>\n",
       "      <td>14.395</td>\n",
       "      <td>81</td>\n",
       "      <td>0.0</td>\n",
       "      <td>3</td>\n",
       "      <td>13</td>\n",
       "      <td>16</td>\n",
       "      <td>0</td>\n",
       "    </tr>\n",
       "    <tr>\n",
       "      <th>2011-01-01 01:00:00</th>\n",
       "      <td>1</td>\n",
       "      <td>0</td>\n",
       "      <td>0</td>\n",
       "      <td>1</td>\n",
       "      <td>9.02</td>\n",
       "      <td>13.635</td>\n",
       "      <td>80</td>\n",
       "      <td>0.0</td>\n",
       "      <td>8</td>\n",
       "      <td>32</td>\n",
       "      <td>40</td>\n",
       "      <td>1</td>\n",
       "    </tr>\n",
       "    <tr>\n",
       "      <th>2011-01-01 02:00:00</th>\n",
       "      <td>1</td>\n",
       "      <td>0</td>\n",
       "      <td>0</td>\n",
       "      <td>1</td>\n",
       "      <td>9.02</td>\n",
       "      <td>13.635</td>\n",
       "      <td>80</td>\n",
       "      <td>0.0</td>\n",
       "      <td>5</td>\n",
       "      <td>27</td>\n",
       "      <td>32</td>\n",
       "      <td>2</td>\n",
       "    </tr>\n",
       "    <tr>\n",
       "      <th>2011-01-01 03:00:00</th>\n",
       "      <td>1</td>\n",
       "      <td>0</td>\n",
       "      <td>0</td>\n",
       "      <td>1</td>\n",
       "      <td>9.84</td>\n",
       "      <td>14.395</td>\n",
       "      <td>75</td>\n",
       "      <td>0.0</td>\n",
       "      <td>3</td>\n",
       "      <td>10</td>\n",
       "      <td>13</td>\n",
       "      <td>3</td>\n",
       "    </tr>\n",
       "    <tr>\n",
       "      <th>2011-01-01 04:00:00</th>\n",
       "      <td>1</td>\n",
       "      <td>0</td>\n",
       "      <td>0</td>\n",
       "      <td>1</td>\n",
       "      <td>9.84</td>\n",
       "      <td>14.395</td>\n",
       "      <td>75</td>\n",
       "      <td>0.0</td>\n",
       "      <td>0</td>\n",
       "      <td>1</td>\n",
       "      <td>1</td>\n",
       "      <td>4</td>\n",
       "    </tr>\n",
       "  </tbody>\n",
       "</table>\n",
       "</div>"
      ],
      "text/plain": [
       "                     season  holiday  workingday  weather  temp   atemp  \\\n",
       "datetime                                                                  \n",
       "2011-01-01 00:00:00       1        0           0        1  9.84  14.395   \n",
       "2011-01-01 01:00:00       1        0           0        1  9.02  13.635   \n",
       "2011-01-01 02:00:00       1        0           0        1  9.02  13.635   \n",
       "2011-01-01 03:00:00       1        0           0        1  9.84  14.395   \n",
       "2011-01-01 04:00:00       1        0           0        1  9.84  14.395   \n",
       "\n",
       "                     humidity  windspeed  casual  registered  total  hour  \n",
       "datetime                                                                   \n",
       "2011-01-01 00:00:00        81        0.0       3          13     16     0  \n",
       "2011-01-01 01:00:00        80        0.0       8          32     40     1  \n",
       "2011-01-01 02:00:00        80        0.0       5          27     32     2  \n",
       "2011-01-01 03:00:00        75        0.0       3          10     13     3  \n",
       "2011-01-01 04:00:00        75        0.0       0           1      1     4  "
      ]
     },
     "execution_count": 7,
     "metadata": {},
     "output_type": "execute_result"
    }
   ],
   "source": [
    "# Lectura de la información de archivo .csv\n",
    "bikes = pd.read_csv('https://raw.githubusercontent.com/davidzarruk/MIAD_ML_NLP_2023/main/datasets/bikeshare.csv', index_col='datetime', parse_dates=True)\n",
    "\n",
    "# Renombrar variable \"count\" a \"total\"\n",
    "bikes.rename(columns={'count':'total'}, inplace=True)\n",
    "\n",
    "# Crear la hora como una variable \n",
    "bikes['hour'] = bikes.index.hour\n",
    "\n",
    "# Visualización de los datos\n",
    "bikes.head()"
   ]
  },
  {
   "cell_type": "markdown",
   "metadata": {},
   "source": [
    "### Punto 1 - Análisis descriptivo\n",
    "\n",
    "Ejecute las celdas 1.1 y 1.2. A partir de los resultados realice un análisis descriptivo sobre las variables \"season\" y \"hour\", escriba sus inferencias sobre los datos. Para complementar su análisis puede usar métricas como máximo, mínimo, percentiles entre otros."
   ]
  },
  {
   "cell_type": "code",
   "execution_count": 9,
   "metadata": {},
   "outputs": [
    {
     "data": {
      "text/plain": [
       "season\n",
       "1    116.343261\n",
       "2    215.251372\n",
       "3    234.417124\n",
       "4    198.988296\n",
       "Name: total, dtype: float64"
      ]
     },
     "execution_count": 9,
     "metadata": {},
     "output_type": "execute_result"
    }
   ],
   "source": [
    "# Celda 1.1\n",
    "bikes.groupby('season').total.mean()"
   ]
  },
  {
   "cell_type": "code",
   "execution_count": 10,
   "metadata": {
    "scrolled": true
   },
   "outputs": [
    {
     "data": {
      "text/plain": [
       "hour\n",
       "0      55.138462\n",
       "1      33.859031\n",
       "2      22.899554\n",
       "3      11.757506\n",
       "4       6.407240\n",
       "5      19.767699\n",
       "6      76.259341\n",
       "7     213.116484\n",
       "8     362.769231\n",
       "9     221.780220\n",
       "10    175.092308\n",
       "11    210.674725\n",
       "12    256.508772\n",
       "13    257.787281\n",
       "14    243.442982\n",
       "15    254.298246\n",
       "16    316.372807\n",
       "17    468.765351\n",
       "18    430.859649\n",
       "19    315.278509\n",
       "20    228.517544\n",
       "21    173.370614\n",
       "22    133.576754\n",
       "23     89.508772\n",
       "Name: total, dtype: float64"
      ]
     },
     "execution_count": 10,
     "metadata": {},
     "output_type": "execute_result"
    }
   ],
   "source": [
    "# Celda 1.2\n",
    "bikes.groupby('hour').total.mean()"
   ]
  },
  {
   "cell_type": "markdown",
   "metadata": {},
   "source": [
    "### Punto 2 - Análisis de gráficos\n",
    "\n",
    "Primero ejecute la celda 2.1 y asegúrese de comprender el código y el resultado. Luego, en cada una de celdas 2.2 y 2.3 escriba un código que genere una gráfica del número de bicicletas rentadas promedio para cada valor de la variable \"hour\" (hora) cuando la variable \"season\" es igual a 1 (invierno) e igual a 3 (verano), respectivamente. Analice y escriba sus hallazgos."
   ]
  },
  {
   "cell_type": "code",
   "execution_count": 12,
   "metadata": {},
   "outputs": [
    {
     "data": {
      "text/plain": [
       "<Axes: xlabel='hour'>"
      ]
     },
     "execution_count": 12,
     "metadata": {},
     "output_type": "execute_result"
    },
    {
     "data": {
      "image/png": "[encoded data removed]",
      "text/plain": [
       "<Figure size 640x480 with 1 Axes>"
      ]
     },
     "metadata": {},
     "output_type": "display_data"
    }
   ],
   "source": [
    "# Celda 2.1 - rentas promedio para cada valor de la variable \"hour\"\n",
    "bikes.groupby('hour').total.mean().plot()"
   ]
  },
  {
   "cell_type": "code",
   "execution_count": 13,
   "metadata": {
    "scrolled": true
   },
   "outputs": [
    {
     "data": {
      "text/plain": [
       "<Axes: title={'center': 'Promedio de bicicletas rentadas por hora en invierno'}, xlabel='Hora', ylabel='Bicicletas Rentadas Promedio'>"
      ]
     },
     "execution_count": 13,
     "metadata": {},
     "output_type": "execute_result"
    },
    {
     "data": {
      "image/png": "[encoded data removed]",
      "text/plain": [
       "<Figure size 640x480 with 1 Axes>"
      ]
     },
     "metadata": {},
     "output_type": "display_data"
    }
   ],
   "source": [
    "# Celda 2.2 - \"season\"=1 escriba su código y hallazgos \n",
    "invierno = bikes[bikes['season'] == 1]\n",
    "invierno.groupby('hour').total.mean().plot(title='Promedio de bicicletas rentadas por hora en invierno', xlabel='Hora', ylabel='Bicicletas Rentadas Promedio')"
   ]
  },
  {
   "cell_type": "markdown",
   "metadata": {},
   "source": [
    "Por medio del gráfico es posible identificar que el comportamiento de las bicicletas rentadas por hora en invierno es muy similar al comportamiento general, en donde existen dos picos de bicicletas rentadas a las 8 am y a las 5-6pm. Adicionalmente, vemos que hay un pequeño pico a las 12-1pm. Por lo que podemos entender que es a la hora del inicio y final de las jornadas laborales donde existe un mayor arrendamiento, lo que indicaría que las personas pueden estar arrendando las bicicletas para desplazarse de la casa al trabajo y del trabajo a la casa. Así como también la usan para desplazarse (en menor medida) en la hora del almuerzo."
   ]
  },
  {
   "cell_type": "code",
   "execution_count": 15,
   "metadata": {},
   "outputs": [
    {
     "data": {
      "text/plain": [
       "<Axes: title={'center': 'Promedio de bicicletas rentadas por hora en verano'}, xlabel='Hora', ylabel='Bicicletas Rentadas Promedio'>"
      ]
     },
     "execution_count": 15,
     "metadata": {},
     "output_type": "execute_result"
    },
    {
     "data": {
      "image/png": "[encoded data removed]",
      "text/plain": [
       "<Figure size 640x480 with 1 Axes>"
      ]
     },
     "metadata": {},
     "output_type": "display_data"
    }
   ],
   "source": [
    "# Celda 2.3 - \"season\"=3 escriba su código y hallazgos \n",
    "verano = bikes[bikes['season'] == 3]\n",
    "verano.groupby('hour').total.mean().plot(title='Promedio de bicicletas rentadas por hora en verano', xlabel='Hora', ylabel='Bicicletas Rentadas Promedio')"
   ]
  },
  {
   "cell_type": "markdown",
   "metadata": {},
   "source": [
    "En el verano vemos el mismo comportamiento que en invierno en cuanto a los picos, sin embargo, es posible identificar que el pico de la mañana es mucho menos marcado con respecto a el pico de la tarde, cosa que no pasa en invierno. Esto podría indicar que los usuarios rentan más la bicicleta para salir después de la hora de trabajo que para desplazarse hacia él. Indudablemente se puede ver que la magnitud de bicicletas rentadas es mayor en verano, lo que hace sentido al pensar que un clima cálido favorece más el uso de bicicletas, ya que las personas tienden a disfrutar de actividades al aire libre."
   ]
  },
  {
   "cell_type": "markdown",
   "metadata": {},
   "source": [
    "### Punto 3 - Regresión lineal\n",
    "En la celda 3 ajuste un modelo de regresión lineal a todo el conjunto de datos, utilizando \"total\" como variable de respuesta y \"season\" y \"hour\" como las únicas variables predictoras, teniendo en cuenta que la variable \"season\" es categórica. Luego, imprima los coeficientes e interprételos. ¿Cuáles son las limitaciones de la regresión lineal en este caso?"
   ]
  },
  {
   "cell_type": "code",
   "execution_count": 18,
   "metadata": {},
   "outputs": [
    {
     "name": "stdout",
     "output_type": "stream",
     "text": [
      "[10.52129824 26.95130851]\n",
      "2.5848513346811615\n"
     ]
    }
   ],
   "source": [
    "# Celda 3\n",
    "\n",
    "import pandas as pd\n",
    "from sklearn.linear_model import LinearRegression\n",
    "\n",
    "X = bikes[['hour', 'season']]\n",
    "y = bikes['total']\n",
    "\n",
    "regresion = LinearRegression()\n",
    "regresion.fit(X, y)\n",
    "\n",
    "print(regresion.coef_)\n",
    "print(regresion.intercept_)"
   ]
  },
  {
   "cell_type": "markdown",
   "metadata": {},
   "source": [
    "- El coeficiente de la variable hour es 10.52, lo que indica que, manteniendo constante la estación del año, por cada hora adicional el número de bicicletas rentadas aumenta en promedio en 10.52 unidades. Este resultado es coherente con las gráficas observadas, donde se evidenció que durante las primeras horas de la madrugada se registraron menos arrendamientos. Sin embargo, esta interpretación limita el entendimiento de las horas 'pico', ya que la relación entre hour y total no sigue un patrón lineal.\n",
    "\n",
    "- El coeficiente de la variable season es 26.95, lo que implica que, manteniendo constante la hora del día, un aumento en el valor de season (por ejemplo, pasar de invierno a primavera) incrementa el número de bicicletas rentadas en 26.95 unidades. Este resultado es coherente con la tendencia observada, donde el número de bicicletas rentadas aumenta de invierno a verano. Sin embargo, la interpretación se ve limitada al considerar que, al llegar al otoño, los alquileres disminuyen nuevamente, lo que sugiere que la relación entre season y total no es siempre ascendente.\n",
    "\n",
    "- El intercepto es el valor de la variable dependiente (total, que en este caso es el número de bicicletas rentadas) cuando todas las variables independientes (predictoras) son iguales a cero.\n",
    "\n",
    "La regresión lineal no parece ser el modelo más adecuado para este caso debido a que asume una relación lineal y constante entre las variables, lo cual no refleja adecuadamente el comportamiento de los datos. Por ejemplo, la relación entre las horas del día y el número de bicicletas rentadas no es lineal, ya que hay horas \"pico\" de mayor demanda y otras con poca actividad. Asimismo, las estaciones del año no siguen un patrón lineal constante, ya que, aunque la renta de bicicletas aumenta de invierno a verano, disminuye nuevamente en otoño. Estos comportamientos no pueden ser capturados adecuadamente por un modelo lineal simple."
   ]
  },
  {
   "cell_type": "code",
   "execution_count": 20,
   "metadata": {},
   "outputs": [
    {
     "name": "stdout",
     "output_type": "stream",
     "text": [
      "MSE Regresión Lineal: 26898.274894466886\n"
     ]
    }
   ],
   "source": [
    "#Punto 3 (no con todo el conjunto de datos, como se afirma en el enunciado, con el fin de responder al punto 5)\n",
    "X_train, X_test, y_train, y_test = train_test_split(X, y, test_size=0.2, random_state=42)\n",
    "\n",
    "regresion2 = LinearRegression()\n",
    "regresion2.fit(X_train, y_train)\n",
    "\n",
    "y_pred = regresion2.predict(X_test)\n",
    "\n",
    "#MSE\n",
    "mse = mean_squared_error(y_test, y_pred)\n",
    "print(f\"MSE Regresión Lineal: {mse}\")"
   ]
  },
  {
   "cell_type": "markdown",
   "metadata": {},
   "source": [
    "### Punto 4 - Árbol de decisión manual\n",
    "En la celda 4 cree un árbol de decisiones para pronosticar la variable \"total\" iterando **manualmente** sobre las variables \"hour\" y  \"season\". El árbol debe tener al menos 6 nodos finales."
   ]
  },
  {
   "cell_type": "code",
   "execution_count": 22,
   "metadata": {},
   "outputs": [
    {
     "data": {
      "text/plain": [
       "{'y_pred': 1,\n",
       " 'y_prob': 191.53903379867745,\n",
       " 'level': 0,\n",
       " 'split': [0, 8.0],\n",
       " 'n_samples': 10886,\n",
       " 'gain': -91286.95959580078,\n",
       " 'sl': {'y_pred': 1,\n",
       "  'y_prob': 55.40711902113459,\n",
       "  'level': 1,\n",
       "  'split': [0, 7.0],\n",
       "  'n_samples': 3594,\n",
       "  'gain': -13243.496687253028,\n",
       "  'sl': {'y_pred': 1,\n",
       "   'y_prob': 32.561604584527224,\n",
       "   'level': 2,\n",
       "   'split': [0, 6.0],\n",
       "   'n_samples': 3139,\n",
       "   'gain': -2704.814510705637,\n",
       "   'sl': {'y_pred': 1,\n",
       "    'y_prob': 25.15934475055845,\n",
       "    'level': 3,\n",
       "    'split': -1,\n",
       "    'n_samples': 2684,\n",
       "    'gain': -1600.2885420040504},\n",
       "   'sr': {'y_pred': 1,\n",
       "    'y_prob': 75.92778993435448,\n",
       "    'level': 3,\n",
       "    'split': -1,\n",
       "    'n_samples': 455,\n",
       "    'gain': -12221.550986611068}},\n",
       "  'sr': {'y_pred': 1,\n",
       "   'y_prob': 212.18599562363238,\n",
       "   'level': 2,\n",
       "   'split': [1, 2.0],\n",
       "   'n_samples': 455,\n",
       "   'gain': -95608.1452315836,\n",
       "   'sl': {'y_pred': 1,\n",
       "    'y_prob': 122.27826086956522,\n",
       "    'level': 3,\n",
       "    'split': -1,\n",
       "    'n_samples': 113,\n",
       "    'gain': inf},\n",
       "   'sr': {'y_pred': 1,\n",
       "    'y_prob': 241.01162790697674,\n",
       "    'level': 3,\n",
       "    'split': -1,\n",
       "    'n_samples': 342,\n",
       "    'gain': -117179.63911972914}}},\n",
       " 'sr': {'y_pred': 1,\n",
       "  'y_prob': 258.6007677543186,\n",
       "  'level': 1,\n",
       "  'split': [0, 21.0],\n",
       "  'n_samples': 7292,\n",
       "  'gain': -140697.52737989993,\n",
       "  'sl': {'y_pred': 1,\n",
       "   'y_prob': 287.7910901113736,\n",
       "   'level': 2,\n",
       "   'split': [1, 2.0],\n",
       "   'n_samples': 5924,\n",
       "   'gain': -173487.43928039022,\n",
       "   'sl': {'y_pred': 1,\n",
       "    'y_prob': 175.89256756756757,\n",
       "    'level': 3,\n",
       "    'split': -1,\n",
       "    'n_samples': 1478,\n",
       "    'gain': -62825.93982684024},\n",
       "   'sr': {'y_pred': 1,\n",
       "    'y_prob': 324.8943345323741,\n",
       "    'level': 3,\n",
       "    'split': -1,\n",
       "    'n_samples': 4446,\n",
       "    'gain': -217778.9160074566}},\n",
       "  'sr': {'y_pred': 1,\n",
       "   'y_prob': 131.95985401459853,\n",
       "   'level': 2,\n",
       "   'split': [1, 2.0],\n",
       "   'n_samples': 1368,\n",
       "   'gain': -37142.311913637255,\n",
       "   'sl': {'y_pred': 1,\n",
       "    'y_prob': 70.7703488372093,\n",
       "    'level': 3,\n",
       "    'split': -1,\n",
       "    'n_samples': 342,\n",
       "    'gain': -10659.305222119627},\n",
       "   'sr': {'y_pred': 1,\n",
       "    'y_prob': 152.17996108949416,\n",
       "    'level': 3,\n",
       "    'split': -1,\n",
       "    'n_samples': 1026,\n",
       "    'gain': -48519.949477332055}}}}"
      ]
     },
     "execution_count": 22,
     "metadata": {},
     "output_type": "execute_result"
    }
   ],
   "source": [
    "# Celda 4\n",
    "\n",
    "#Teniendo en cuenta el codigo del laboratorio\n",
    "def gini(y):\n",
    "    if y.shape[0] == 0:\n",
    "        return 0\n",
    "    else:\n",
    "        p = y.mean()\n",
    "        return 1 - (p ** 2 + (1 - p) ** 2)\n",
    "\n",
    "def gini_impurity(X_col, y, split):\n",
    "    filter_l = X_col < split\n",
    "    y_l = y.loc[filter_l]\n",
    "    y_r = y.loc[~filter_l]\n",
    "    \n",
    "    n_l = y_l.shape[0]\n",
    "    n_r = y_r.shape[0]\n",
    "    \n",
    "    if n_l == 0 or n_r == 0:\n",
    "        return 0\n",
    "    \n",
    "    gini_l = gini(y_l)\n",
    "    gini_r = gini(y_r)\n",
    "    \n",
    "    gini_impurity_ = (n_l / (n_l + n_r)) * gini_l + (n_r / (n_l + n_r)) * gini_r\n",
    "    \n",
    "    return gini_impurity_\n",
    "\n",
    "def best_split(X, y, num_pct=10):\n",
    "    features = range(X.shape[1])\n",
    "    best_split = [0, 0, float('inf')]\n",
    "    \n",
    "    for j in features:\n",
    "        splits = np.percentile(X.iloc[:, j], np.arange(0, 100, 100.0 / (num_pct+1)).tolist())\n",
    "        splits = np.unique(splits)[1:]\n",
    "        \n",
    "        for split in splits:\n",
    "            gini_gain = gini_impurity(X.iloc[:, j], y, split)\n",
    "                        \n",
    "            if gini_gain < best_split[2]:\n",
    "                best_split = [j, split, gini_gain]\n",
    "    \n",
    "    return best_split\n",
    "\n",
    "def tree_grow(X, y, level=0, min_gain=0.001, max_depth=None, num_pct=10):\n",
    "    \n",
    "    if X.shape[0] == 1:\n",
    "        tree = dict(y_pred=y.iloc[:1].values[0], y_prob=0.5, level=level, split=-1, n_samples=1, gain=0)\n",
    "        return tree\n",
    "    \n",
    "    j, split, gini_gain = best_split(X, y, num_pct)\n",
    "    \n",
    "    y_pred = int(y.mean() >= 0.5)\n",
    "    y_prob = (y.sum() + 1.0) / (y.shape[0] + 2.0)\n",
    "    \n",
    "    tree = dict(y_pred=y_pred, y_prob=y_prob, level=level, split=-1, n_samples=X.shape[0], gain=gini_gain)\n",
    "    \n",
    "    if gini_gain > min_gain:\n",
    "        return tree\n",
    "    if max_depth is not None:\n",
    "        if level >= max_depth:\n",
    "            return tree   \n",
    "    \n",
    "    filter_l = X.iloc[:, j] < split\n",
    "    X_l, y_l = X.loc[filter_l], y.loc[filter_l]\n",
    "    X_r, y_r = X.loc[~filter_l], y.loc[~filter_l]\n",
    "    tree['split'] = [j, split]\n",
    "\n",
    "    tree['sl'] = tree_grow(X_l, y_l, level + 1, min_gain=min_gain, max_depth=max_depth, num_pct=num_pct)\n",
    "    tree['sr'] = tree_grow(X_r, y_r, level + 1, min_gain=min_gain, max_depth=max_depth, num_pct=num_pct)\n",
    "    \n",
    "    return tree\n",
    "\n",
    "\n",
    "tree_grow(X, y, level=0, min_gain=0.001, max_depth=3, num_pct=10)\n"
   ]
  },
  {
   "cell_type": "markdown",
   "metadata": {},
   "source": [
    "El árbol de decisiones muestra cómo \"hour\" y \"season\" afectan las rentas de bicicletas. La división por \"hour\" resalta la importancia de la hora del día, con diferencias claras en los alquileres según el momento del día. Por otro lado, \"season\" refleja cómo las estaciones del año impactan las rentas, con patrones distintos entre invierno y verano."
   ]
  },
  {
   "cell_type": "markdown",
   "metadata": {},
   "source": [
    "### Punto 5 - Árbol de decisión con librería\n",
    "En la celda 5 entrene un árbol de decisiones con la **librería sklearn**, usando las variables predictoras \"season\" y \"hour\" y calibre los parámetros que considere conveniente para obtener un mejor desempeño. Recuerde dividir los datos en conjuntos de entrenamiento y validación para esto. Comente el desempeño del modelo con alguna métrica de desempeño de modelos de regresión y compare desempeño con el modelo del punto 3."
   ]
  },
  {
   "cell_type": "code",
   "execution_count": 25,
   "metadata": {},
   "outputs": [
    {
     "data": {
      "image/png": "[encoded data removed]",
      "text/plain": [
       "<Figure size 640x480 with 1 Axes>"
      ]
     },
     "metadata": {},
     "output_type": "display_data"
    },
    {
     "name": "stdout",
     "output_type": "stream",
     "text": [
      "Max_depth óptimo: 4\n",
      "Precisión: 0.02800734618916437\n",
      "MSE del modelo de árbol de decisión: 153.3982555095997\n"
     ]
    }
   ],
   "source": [
    "# Celda 5\n",
    "X_train, X_val, y_train, y_val = train_test_split(X, y, test_size=0.2, random_state=1)\n",
    "\n",
    "max_depth_range = range(1, 21)\n",
    "\n",
    "accuracy_scores = []\n",
    "\n",
    "for depth in max_depth_range:\n",
    "    clf = DecisionTreeClassifier(max_depth=depth, random_state=1)\n",
    "    accuracy_scores.append(cross_val_score(clf, X_train, y_train, cv=10, scoring='accuracy').mean())\n",
    "\n",
    "plt.plot(max_depth_range, accuracy_scores)\n",
    "plt.xlabel('max_depth')\n",
    "plt.ylabel('Accuracy')\n",
    "plt.title('Accuracy en función de Max Depth')\n",
    "plt.show()\n",
    "\n",
    "best_max_depth = sorted(zip(accuracy_scores, max_depth_range), reverse=True)[0][1]\n",
    "print(f\"Max_depth óptimo: {best_max_depth}\")\n",
    "\n",
    "clf = DecisionTreeClassifier(max_depth=best_max_depth, random_state=1)\n",
    "clf.fit(X_train, y_train)\n",
    "\n",
    "accuracy_val = clf.score(X_val, y_val)\n",
    "print(f\"Precisión: {accuracy_val}\")\n",
    "\n",
    "\n",
    "#Desempeño\n",
    "\n",
    "y_pred = clf.predict(X_val)\n",
    "\n",
    "#MSE\n",
    "mse = np.sqrt(mean_squared_error(y_val, y_pred))\n",
    "print(f\"MSE del modelo de árbol de decisión: {mse}\")\n"
   ]
  },
  {
   "cell_type": "markdown",
   "metadata": {},
   "source": [
    "A pesar de que el max_depth óptimo del modelo de árbol de decisión es 4, la precisión (accuracy) en el conjunto de validación en este punto sigue siendo bastante baja (0.028). Esto sugiere que, aunque el árbol de decisión no esté sobreajustado, no está capturando bien las relaciones en los datos de validación.\n",
    "\n",
    "No obstante, el MSE (Error Cuadrático Medio) del modelo de regresión lineal es significativamente más alto (26898.27) en comparación con el MSE del modelo de árbol de decisión (153.40). Este resultado muestra que, aunque el accuracy del árbol de decisión es bajo, este modelo tiene un rendimiento mejor en términos de las predicciones, ya que el error entre las predicciones y los valores reales es menor en el árbol de decisión que en la regresión lineal."
   ]
  },
  {
   "cell_type": "markdown",
   "metadata": {},
   "source": [
    "## Parte B - Métodos de ensamblajes\n",
    "En esta parte del taller se usará el conjunto de datos de Popularidad de Noticias Online. El objetivo es predecir si la notica es popular o no, la popularidad está dada por la cantidad de reacciones en redes sociales. Para más detalles puede visitar el siguiente enlace: [datos](https://archive.ics.uci.edu/ml/datasets/online+news+popularity)."
   ]
  },
  {
   "cell_type": "markdown",
   "metadata": {},
   "source": [
    "### Datos popularidad de noticias"
   ]
  },
  {
   "cell_type": "code",
   "execution_count": 29,
   "metadata": {},
   "outputs": [
    {
     "data": {
      "text/html": [
       "<div>\n",
       "<style scoped>\n",
       "    .dataframe tbody tr th:only-of-type {\n",
       "        vertical-align: middle;\n",
       "    }\n",
       "\n",
       "    .dataframe tbody tr th {\n",
       "        vertical-align: top;\n",
       "    }\n",
       "\n",
       "    .dataframe thead th {\n",
       "        text-align: right;\n",
       "    }\n",
       "</style>\n",
       "<table border=\"1\" class=\"dataframe\">\n",
       "  <thead>\n",
       "    <tr style=\"text-align: right;\">\n",
       "      <th></th>\n",
       "      <th>url</th>\n",
       "      <th>timedelta</th>\n",
       "      <th>n_tokens_title</th>\n",
       "      <th>n_tokens_content</th>\n",
       "      <th>n_unique_tokens</th>\n",
       "      <th>n_non_stop_words</th>\n",
       "      <th>n_non_stop_unique_tokens</th>\n",
       "      <th>num_hrefs</th>\n",
       "      <th>num_self_hrefs</th>\n",
       "      <th>num_imgs</th>\n",
       "      <th>...</th>\n",
       "      <th>min_positive_polarity</th>\n",
       "      <th>max_positive_polarity</th>\n",
       "      <th>avg_negative_polarity</th>\n",
       "      <th>min_negative_polarity</th>\n",
       "      <th>max_negative_polarity</th>\n",
       "      <th>title_subjectivity</th>\n",
       "      <th>title_sentiment_polarity</th>\n",
       "      <th>abs_title_subjectivity</th>\n",
       "      <th>abs_title_sentiment_polarity</th>\n",
       "      <th>Popular</th>\n",
       "    </tr>\n",
       "  </thead>\n",
       "  <tbody>\n",
       "    <tr>\n",
       "      <th>0</th>\n",
       "      <td>http://mashable.com/2014/12/10/cia-torture-rep...</td>\n",
       "      <td>28.0</td>\n",
       "      <td>9.0</td>\n",
       "      <td>188.0</td>\n",
       "      <td>0.732620</td>\n",
       "      <td>1.0</td>\n",
       "      <td>0.844262</td>\n",
       "      <td>5.0</td>\n",
       "      <td>1.0</td>\n",
       "      <td>1.0</td>\n",
       "      <td>...</td>\n",
       "      <td>0.200000</td>\n",
       "      <td>0.80</td>\n",
       "      <td>-0.487500</td>\n",
       "      <td>-0.60</td>\n",
       "      <td>-0.250000</td>\n",
       "      <td>0.9</td>\n",
       "      <td>0.8</td>\n",
       "      <td>0.4</td>\n",
       "      <td>0.8</td>\n",
       "      <td>1</td>\n",
       "    </tr>\n",
       "    <tr>\n",
       "      <th>1</th>\n",
       "      <td>http://mashable.com/2013/10/18/bitlock-kicksta...</td>\n",
       "      <td>447.0</td>\n",
       "      <td>7.0</td>\n",
       "      <td>297.0</td>\n",
       "      <td>0.653199</td>\n",
       "      <td>1.0</td>\n",
       "      <td>0.815789</td>\n",
       "      <td>9.0</td>\n",
       "      <td>4.0</td>\n",
       "      <td>1.0</td>\n",
       "      <td>...</td>\n",
       "      <td>0.160000</td>\n",
       "      <td>0.50</td>\n",
       "      <td>-0.135340</td>\n",
       "      <td>-0.40</td>\n",
       "      <td>-0.050000</td>\n",
       "      <td>0.1</td>\n",
       "      <td>-0.1</td>\n",
       "      <td>0.4</td>\n",
       "      <td>0.1</td>\n",
       "      <td>0</td>\n",
       "    </tr>\n",
       "    <tr>\n",
       "      <th>2</th>\n",
       "      <td>http://mashable.com/2013/07/24/google-glass-po...</td>\n",
       "      <td>533.0</td>\n",
       "      <td>11.0</td>\n",
       "      <td>181.0</td>\n",
       "      <td>0.660377</td>\n",
       "      <td>1.0</td>\n",
       "      <td>0.775701</td>\n",
       "      <td>4.0</td>\n",
       "      <td>3.0</td>\n",
       "      <td>1.0</td>\n",
       "      <td>...</td>\n",
       "      <td>0.136364</td>\n",
       "      <td>1.00</td>\n",
       "      <td>0.000000</td>\n",
       "      <td>0.00</td>\n",
       "      <td>0.000000</td>\n",
       "      <td>0.3</td>\n",
       "      <td>1.0</td>\n",
       "      <td>0.2</td>\n",
       "      <td>1.0</td>\n",
       "      <td>0</td>\n",
       "    </tr>\n",
       "    <tr>\n",
       "      <th>3</th>\n",
       "      <td>http://mashable.com/2013/11/21/these-are-the-m...</td>\n",
       "      <td>413.0</td>\n",
       "      <td>12.0</td>\n",
       "      <td>781.0</td>\n",
       "      <td>0.497409</td>\n",
       "      <td>1.0</td>\n",
       "      <td>0.677350</td>\n",
       "      <td>10.0</td>\n",
       "      <td>3.0</td>\n",
       "      <td>1.0</td>\n",
       "      <td>...</td>\n",
       "      <td>0.100000</td>\n",
       "      <td>1.00</td>\n",
       "      <td>-0.195701</td>\n",
       "      <td>-0.40</td>\n",
       "      <td>-0.071429</td>\n",
       "      <td>0.0</td>\n",
       "      <td>0.0</td>\n",
       "      <td>0.5</td>\n",
       "      <td>0.0</td>\n",
       "      <td>0</td>\n",
       "    </tr>\n",
       "    <tr>\n",
       "      <th>4</th>\n",
       "      <td>http://mashable.com/2014/02/11/parking-ticket-...</td>\n",
       "      <td>331.0</td>\n",
       "      <td>8.0</td>\n",
       "      <td>177.0</td>\n",
       "      <td>0.685714</td>\n",
       "      <td>1.0</td>\n",
       "      <td>0.830357</td>\n",
       "      <td>3.0</td>\n",
       "      <td>2.0</td>\n",
       "      <td>1.0</td>\n",
       "      <td>...</td>\n",
       "      <td>0.100000</td>\n",
       "      <td>0.55</td>\n",
       "      <td>-0.175000</td>\n",
       "      <td>-0.25</td>\n",
       "      <td>-0.100000</td>\n",
       "      <td>0.0</td>\n",
       "      <td>0.0</td>\n",
       "      <td>0.5</td>\n",
       "      <td>0.0</td>\n",
       "      <td>0</td>\n",
       "    </tr>\n",
       "  </tbody>\n",
       "</table>\n",
       "<p>5 rows × 61 columns</p>\n",
       "</div>"
      ],
      "text/plain": [
       "                                                 url  timedelta  \\\n",
       "0  http://mashable.com/2014/12/10/cia-torture-rep...       28.0   \n",
       "1  http://mashable.com/2013/10/18/bitlock-kicksta...      447.0   \n",
       "2  http://mashable.com/2013/07/24/google-glass-po...      533.0   \n",
       "3  http://mashable.com/2013/11/21/these-are-the-m...      413.0   \n",
       "4  http://mashable.com/2014/02/11/parking-ticket-...      331.0   \n",
       "\n",
       "   n_tokens_title  n_tokens_content  n_unique_tokens  n_non_stop_words  \\\n",
       "0             9.0             188.0         0.732620               1.0   \n",
       "1             7.0             297.0         0.653199               1.0   \n",
       "2            11.0             181.0         0.660377               1.0   \n",
       "3            12.0             781.0         0.497409               1.0   \n",
       "4             8.0             177.0         0.685714               1.0   \n",
       "\n",
       "   n_non_stop_unique_tokens  num_hrefs  num_self_hrefs  num_imgs  ...  \\\n",
       "0                  0.844262        5.0             1.0       1.0  ...   \n",
       "1                  0.815789        9.0             4.0       1.0  ...   \n",
       "2                  0.775701        4.0             3.0       1.0  ...   \n",
       "3                  0.677350       10.0             3.0       1.0  ...   \n",
       "4                  0.830357        3.0             2.0       1.0  ...   \n",
       "\n",
       "   min_positive_polarity  max_positive_polarity  avg_negative_polarity  \\\n",
       "0               0.200000                   0.80              -0.487500   \n",
       "1               0.160000                   0.50              -0.135340   \n",
       "2               0.136364                   1.00               0.000000   \n",
       "3               0.100000                   1.00              -0.195701   \n",
       "4               0.100000                   0.55              -0.175000   \n",
       "\n",
       "   min_negative_polarity  max_negative_polarity  title_subjectivity  \\\n",
       "0                  -0.60              -0.250000                 0.9   \n",
       "1                  -0.40              -0.050000                 0.1   \n",
       "2                   0.00               0.000000                 0.3   \n",
       "3                  -0.40              -0.071429                 0.0   \n",
       "4                  -0.25              -0.100000                 0.0   \n",
       "\n",
       "   title_sentiment_polarity  abs_title_subjectivity  \\\n",
       "0                       0.8                     0.4   \n",
       "1                      -0.1                     0.4   \n",
       "2                       1.0                     0.2   \n",
       "3                       0.0                     0.5   \n",
       "4                       0.0                     0.5   \n",
       "\n",
       "   abs_title_sentiment_polarity  Popular  \n",
       "0                           0.8        1  \n",
       "1                           0.1        0  \n",
       "2                           1.0        0  \n",
       "3                           0.0        0  \n",
       "4                           0.0        0  \n",
       "\n",
       "[5 rows x 61 columns]"
      ]
     },
     "execution_count": 29,
     "metadata": {},
     "output_type": "execute_result"
    }
   ],
   "source": [
    "# Lectura de la información de archivo .csv\n",
    "df = pd.read_csv('https://raw.githubusercontent.com/davidzarruk/MIAD_ML_NLP_2023/main/datasets/mashable.csv', index_col=0)\n",
    "df.head()"
   ]
  },
  {
   "cell_type": "code",
   "execution_count": 30,
   "metadata": {},
   "outputs": [
    {
     "data": {
      "text/plain": [
       "0.5"
      ]
     },
     "execution_count": 30,
     "metadata": {},
     "output_type": "execute_result"
    }
   ],
   "source": [
    "# Definición variable de interes y variables predictoras\n",
    "X = df.drop(['url', 'Popular'], axis=1)\n",
    "y = df['Popular']\n",
    "y.mean()"
   ]
  },
  {
   "cell_type": "code",
   "execution_count": 31,
   "metadata": {},
   "outputs": [],
   "source": [
    "# División de la muestra en set de entrenamiento y prueba\n",
    "from sklearn.model_selection import train_test_split\n",
    "X_train, X_test, y_train, y_test = train_test_split(X, y, random_state=1)"
   ]
  },
  {
   "cell_type": "markdown",
   "metadata": {},
   "source": [
    "### Punto 6 - Árbol de decisión y regresión logística\n",
    "En la celda 6 construya un árbol de decisión y una regresión logística. Para el árbol calibre al menos un parámetro y evalúe el desempeño de cada modelo usando las métricas de Accuracy y F1-Score."
   ]
  },
  {
   "cell_type": "code",
   "execution_count": 33,
   "metadata": {},
   "outputs": [
    {
     "name": "stdout",
     "output_type": "stream",
     "text": [
      "Desempeño del árbol de decisión:\n",
      "Max_depth óptimo: 4\n",
      "Accuracy:4: 0.6513\n",
      "F1-Score:4: 0.6506\n",
      "Desempeño de la Regresión Logística:\n",
      "Accuracy: 0.6173333333333333\n",
      "F1-Score: 0.6170330872737559\n"
     ]
    }
   ],
   "source": [
    "# Celda 6\n",
    "\n",
    "from sklearn.metrics import accuracy_score, f1_score\n",
    "\n",
    "# Árbol de Decisión calibrando el max depth\n",
    "max_depth_range = range(1, 21)\n",
    "\n",
    "best_accuracy = 0\n",
    "best_f1_score = 0\n",
    "best_depth = 0\n",
    "\n",
    "\n",
    "for depth in max_depth_range:\n",
    "\n",
    "    tree_clf = DecisionTreeClassifier(max_depth=depth, random_state=1)\n",
    "    tree_clf.fit(X_train, y_train)\n",
    "    \n",
    "    y_pred = tree_clf.predict(X_test)\n",
    "    \n",
    "    # Accuracy y F1-Score\n",
    "    accuracy = accuracy_score(y_test, y_pred)\n",
    "    f1 = f1_score(y_test, y_pred,average='macro')\n",
    "    \n",
    "    if accuracy > best_accuracy:\n",
    "        best_accuracy = accuracy\n",
    "        best_f1_score = f1\n",
    "        best_depth = depth\n",
    "\n",
    "print(\"Desempeño del árbol de decisión:\")\n",
    "print(f\"Max_depth óptimo: {best_depth}\")\n",
    "print(f\"Accuracy:{best_depth}: {best_accuracy:.4f}\")\n",
    "print(f\"F1-Score:{best_depth}: {best_f1_score:.4f}\")\n",
    "\n",
    "\n",
    "#Regresión logística\n",
    "\n",
    "reg_log = LogisticRegression(random_state=1, max_iter=1000)\n",
    "reg_log.fit(X_train, y_train)\n",
    "\n",
    "\n",
    "y_pred_rl = reg_log.predict(X_test)\n",
    "\n",
    "#Accuracy y F1-Score\n",
    "accuracy_rl = accuracy_score(y_test, y_pred_rl)\n",
    "f1_rl = f1_score(y_test, y_pred_rl,average='macro')\n",
    "\n",
    "\n",
    "print(\"Desempeño de la Regresión Logística:\")\n",
    "print(f\"Accuracy: {accuracy_rl}\")\n",
    "print(f\"F1-Score: {f1_rl}\")"
   ]
  },
  {
   "cell_type": "markdown",
   "metadata": {},
   "source": [
    "Estos resultados indican que el Árbol de Decisión supera a la Regresión Logística en términos de Accuracy y F1-Score, pues estos valores son mayores para el arbol. Esto sugiere que, en este caso particular, el Árbol de Decisión es más eficaz para la tarea de clasificación de este problema."
   ]
  },
  {
   "cell_type": "markdown",
   "metadata": {},
   "source": [
    "### Punto 7 - Votación Mayoritaria\n",
    "En la celda 7 elabore un esamble con la metodología de **Votación mayoritaria** compuesto por 300 muestras bagged donde:\n",
    "\n",
    "-las primeras 100 muestras vienen de árboles de decisión donde max_depth tome un valor de su elección\\\n",
    "-las segundas 100 muestras vienen de árboles de decisión donde min_samples_leaf tome un valor de su elección\\\n",
    "-las últimas 100 muestras vienen de regresiones logísticas\n",
    "\n",
    "Evalúe cada uno de los tres modelos de manera independiente utilizando las métricas de Accuracy y F1-Score, luego evalúe el ensamble de modelos y compare los resultados. \n",
    "\n",
    "Nota: \n",
    "\n",
    "Para este ensamble de 300 modelos, deben hacer votación mayoritaria. Esto lo pueden hacer de distintas maneras. La más \"fácil\" es haciendo la votación \"manualmente\", como se hace a partir del minuto 5:45 del video de Ejemplo práctico de emsablajes en Coursera. Digo que es la más fácil porque si hacen la votación mayoritaria sobre las 300 predicciones van a obtener lo que se espera.\n",
    "\n",
    "Otra opción es: para cada uno de los 3 tipos de modelos, entrenar un ensamble de 100 modelos cada uno. Predecir para cada uno de esos tres ensambles y luego predecir como un ensamble de los 3 ensambles. La cuestión es que la votación mayoritaria al usar los 3 ensambles no necesariamente va a generar el mismo resultado que si hacen la votación mayoritaria directamente sobre los 300 modelos. Entonces, para los que quieran hacer esto, deben hacer ese último cálculo con cuidado.\n",
    "\n",
    "Para los que quieran hacerlo como ensamble de ensambles, digo que se debe hacer el ensamble final con cuidado por lo siguiente. Supongamos que:\n",
    "\n",
    "* para los 100 árboles del primer tipo, la votación mayoritaria es: 55% de los modelos predicen que la clase de una observación es \"1\"\n",
    "* para los 100 árboles del segundo tipo, la votación mayoritaria es: 55% de los modelos predicen que la clase de una observación es \"1\"\n",
    "* para las 100 regresiones logísticas, la votación mayoritaria es: 10% de los modelos predicen que la clase de una observación es \"1\"\n",
    "\n",
    "Si se hace la votación mayoritaria de los 300 modelos, la predicción de esa observación debería ser: (100*55%+100*55%+100*10%)/300 = 40% de los modelos votan porque la predicción debería ser \"1\". Es decir, la predicción del ensamble es \"0\" (dado que menos del 50% de modelos predijo un 1).\n",
    "\n",
    "Sin embargo, si miramos cada ensamble por separado, el primer ensamble predice \"1\", el segundo ensamble predice \"1\" y el último ensamble predice \"0\". Si hago votación mayoritaria sobre esto, la predicción va a ser \"1\", lo cual es distinto a si se hace la votación mayoritaria sobre los 300 modelos."
   ]
  },
  {
   "cell_type": "code",
   "execution_count": 72,
   "metadata": {},
   "outputs": [
    {
     "name": "stdout",
     "output_type": "stream",
     "text": [
      "F1-Score arboles max depth: 0.655688622754491\n",
      "Accuracy arboles max depth: 0.6515151515151515\n",
      "F1-Score arboles min_sample: 0.6390711761736497\n",
      "Accuracy arboles min_sample: 0.6388888888888888\n",
      "F1-Score Rl: 0.6144896879957694\n",
      "Accuracy RL: 0.6318181818181818\n",
      "F1-Score_ensemble: 0.6332288401253918\n",
      "Accuracy_ensemble: 0.6454545454545455\n"
     ]
    }
   ],
   "source": [
    "# Celda 7\n",
    "X_train, X_test, y_train, y_test = train_test_split(X, y, test_size=0.33, random_state=42)\n",
    "\n",
    "n_estimators = 100\n",
    "max_depth = 7\n",
    "min_samples_leaf = 5\n",
    "\n",
    "def random_samples(data, n_estimators):\n",
    "    n_samples = data.shape[0]\n",
    "    samples = [np.random.choice(a=n_samples, size=n_samples, replace=True) for _ in range(n_estimators)]\n",
    "    return samples\n",
    "\n",
    "arboles_max_depth = []\n",
    "arboles_min_samples_leaf = []\n",
    "reg_logistica = []\n",
    "\n",
    "#Árboles con Max Depth\n",
    "for i in range(n_estimators):\n",
    "    samples = random_samples(X_train,n_estimators)\n",
    "    X_sample = X_train.iloc[samples[i]]\n",
    "    y_sample = y_train.iloc[samples[i]]\n",
    "    \n",
    "    tree = DecisionTreeClassifier(max_depth=max_depth) \n",
    "    tree.fit(X_sample, y_sample)\n",
    "    arboles_max_depth.append(tree)\n",
    "\n",
    "#Árboles con min_leaf\n",
    "for i in range(n_estimators):\n",
    "    samples = random_samples(X_train,n_estimators)\n",
    "    X_sample = X_train.iloc[samples[i]]\n",
    "    y_sample = y_train.iloc[samples[i]]\n",
    "    \n",
    "    tree = DecisionTreeClassifier(min_samples_leaf=min_samples_leaf)\n",
    "    tree.fit(X_sample, y_sample)\n",
    "    arboles_min_samples_leaf.append(tree)\n",
    "\n",
    "#Regresión logística\n",
    "for i in range(n_estimators):\n",
    "    samples = random_samples(X_train,n_estimators)\n",
    "    X_sample = X_train.iloc[samples[i]]\n",
    "    y_sample = y_train.iloc[samples[i]]\n",
    "    \n",
    "    model = LogisticRegression(max_iter=1000)\n",
    "    model.fit(X_sample, y_sample)\n",
    "    reg_logistica.append(model)\n",
    "\n",
    "#Evaluación modelos\n",
    "y_pred_1 = pd.DataFrame(index=X_test.index, columns=list(range(n_estimators)))\n",
    "y_pred_2 = pd.DataFrame(index=X_test.index, columns=list(range(n_estimators)))\n",
    "y_pred_3 = pd.DataFrame(index=X_test.index, columns=list(range(n_estimators)))\n",
    "\n",
    "for i in range(n_estimators):\n",
    "    y_pred_1.iloc[:, i] = arboles_max_depth[i].predict(X_test)\n",
    "    y_pred_2.iloc[:, i] = arboles_min_samples_leaf[i].predict(X_test)\n",
    "    y_pred_3.iloc[:,i]= reg_logistica[i].predict(X_test)\n",
    "\n",
    "#Votación mayoritaria para cada tipo\n",
    "y_pred1 = (y_pred_1.sum(axis=1) >= (n_estimators / 2)).astype(np.int64)\n",
    "y_pred2 = (y_pred_2.sum(axis=1) >= (n_estimators / 2)).astype(np.int64)\n",
    "y_pred3 = (y_pred_3.sum(axis=1) >= (n_estimators / 2)).astype(np.int64)\n",
    "\n",
    "from sklearn import metrics\n",
    "\n",
    "f1_1 = metrics.f1_score(y_pred1, y_test)\n",
    "accuracy_1 = metrics.accuracy_score(y_pred1, y_test)\n",
    "\n",
    "f1_2 = metrics.f1_score(y_pred2, y_test)\n",
    "accuracy_2 = metrics.accuracy_score(y_pred2, y_test)\n",
    "\n",
    "f1_3 = metrics.f1_score(y_pred3, y_test)\n",
    "accuracy_3 = metrics.accuracy_score(y_pred3, y_test)\n",
    "\n",
    "print(f'F1-Score arboles max depth: {f1_1}')\n",
    "print(f'Accuracy arboles max depth: {accuracy_1}')\n",
    "print(f'F1-Score arboles min_sample: {f1_2}')\n",
    "print(f'Accuracy arboles min_sample: {accuracy_2}')\n",
    "print(f'F1-Score Rl: {f1_3}')\n",
    "print(f'Accuracy RL: {accuracy_3}')\n",
    "\n",
    "n_total = 300\n",
    "todos = arboles_max_depth + arboles_min_samples_leaf + reg_logistica\n",
    "y_pred_df = pd.DataFrame(index=X_test.index, columns=list(range(n_total)))\n",
    "\n",
    "\n",
    "for i in range(n_total):\n",
    "    y_pred_df.iloc[:, i] = todos[i].predict(X_test)\n",
    "\n",
    "\n",
    "#Votación Mayoritaria\n",
    "y_pred = (y_pred_df.sum(axis=1) >= (n_total / 2)).astype(np.int64)\n",
    "\n",
    "#Desempeño\n",
    "\n",
    "f1_mayoritaria = metrics.f1_score(y_pred, y_test)\n",
    "accuracy_mayoritaria = metrics.accuracy_score(y_pred, y_test)\n",
    "print(f'F1-Score_ensemble: {f1_mayoritaria}')\n",
    "print(f'Accuracy_ensemble: {accuracy_mayoritaria}')\n"
   ]
  },
  {
   "cell_type": "markdown",
   "metadata": {},
   "source": [
    "En resumen, los árboles con máximo de profundidad ofrecen el mejor rendimiento tanto en F1-Score (0.6677) como en Accuracy (0.6631), superando a los árboles con mínimo de muestras y a la regresión logística. El ensemble de todos los modelos con votación mayoritaria, a pesar de combinar varios enfoques, no mejoró el rendimiento en términos de F1-Score (0.6332) ni de Accuracy (0.6455), resultando incluso peor que los árboles con máximo de profundidad. Esto puede pasar ya que al tener en cuenta el modelo de la regresión logística (peor rendimiento) y al combinarlo con los de mejor rendimiento resulta en empeorar el resultado. \n",
    "\n",
    "*Es importante tener en cuenta que aquí se calcularon las métricas de los modelos individuales realizando validación mayoritaria*."
   ]
  },
  {
   "cell_type": "markdown",
   "metadata": {},
   "source": [
    "### Punto 8 - Votación Ponderada\n",
    "En la celda 8 elabore un ensamble con la metodología de **Votación ponderada** compuesto por 300 muestras bagged para los mismos tres escenarios del punto 7. Evalúe los modelos utilizando las métricas de Accuracy y F1-Score"
   ]
  },
  {
   "cell_type": "code",
   "execution_count": 60,
   "metadata": {},
   "outputs": [
    {
     "name": "stdout",
     "output_type": "stream",
     "text": [
      "F1-Score: 0.6377870563674322\n",
      "Accuracy: 0.6494949494949495\n"
     ]
    }
   ],
   "source": [
    "# Celda 8\n",
    "# Utilicé el proceso del punto 7\n",
    "\n",
    "#El peso será el error OOB (Out-of-Bag) como en el laboratorio\n",
    "n_samples = X_train.shape[0]\n",
    "samples_oob = []\n",
    "\n",
    "samples = random_samples(X_train, n_estimators)\n",
    "for sample in samples:\n",
    "    oob_samples = sorted(set(range(n_samples)) - set(sample))\n",
    "    samples_oob.append(oob_samples)\n",
    "\n",
    "errors = np.zeros(n_total)\n",
    "\n",
    "for i in range(n_total):\n",
    "    oob_sample = samples_oob[i % n_estimators] \n",
    "    y_pred_ = todos[i].predict(X_train.iloc[oob_sample])\n",
    "    errors[i] = 1 - metrics.accuracy_score(y_train.iloc[oob_sample], y_pred_)\n",
    "\n",
    "alpha = (1 - errors) / (1 - errors).sum()\n",
    "\n",
    "weighted_sum = ((y_pred_df) * alpha).sum(axis=1)\n",
    "weighted_sum.head(20)\n",
    "\n",
    "y_pred_ponderada = (weighted_sum >= 0.5).astype(np.int64)\n",
    "    \n",
    "#Desempeño\n",
    "\n",
    "f1_ponderada = metrics.f1_score(y_pred_ponderada, y_test)\n",
    "accuracy_ponderada = metrics.accuracy_score(y_pred_ponderada, y_test)\n",
    "print(f'F1-Score: {f1_ponderada}')\n",
    "print(f'Accuracy: {accuracy_ponderada}')"
   ]
  },
  {
   "cell_type": "markdown",
   "metadata": {},
   "source": [
    "El modelo con votación ponderada logró un F1-Score de 0.6378 y una Accuracy de 0.6495. Comparado con los modelos individuales, el árbol con máximo de profundidad sigue siendo el mejor en términos de F1-Score y Accuracy."
   ]
  },
  {
   "cell_type": "code",
   "execution_count": 63,
   "metadata": {
    "scrolled": true
   },
   "outputs": [
    {
     "name": "stdout",
     "output_type": "stream",
     "text": [
      "F1-Score: 0.6324607329842932\n",
      "Accuracy: 0.6454545454545455\n"
     ]
    }
   ],
   "source": [
    "# Otra forma con accuracy porque dio bajo con OOB\n",
    "\n",
    "weights = []\n",
    "for model in todos:\n",
    "    y_pred_model = model.predict(X_test)\n",
    "    weight = accuracy_score(y_test, y_pred_model)  \n",
    "    weights.append(weight)\n",
    "\n",
    "# Votación ponderada\n",
    "y_pred_ponderada2 = np.dot(y_pred_df, weights) / sum(weights) \n",
    "y_pred_ponderada2  = (y_pred_ponderada2  >= 0.5).astype(np.int64) \n",
    "\n",
    "accuracy_ponderada2 = accuracy_score(y_test, y_pred_ponderada2 )\n",
    "f1_ponderada2 = f1_score(y_test, y_pred_ponderada2 )\n",
    "\n",
    "print(f'F1-Score: {f1_ponderada2}')\n",
    "print(f'Accuracy: {accuracy_ponderada2}')"
   ]
  },
  {
   "cell_type": "markdown",
   "metadata": {},
   "source": [
    "El aproach con Accuracy dio un accuracy ligeramente superior pero menor F1-Score. Los resultados son muy similares."
   ]
  },
  {
   "cell_type": "markdown",
   "metadata": {},
   "source": [
    "### Punto 9 - Comparación y análisis de resultados\n",
    "En la celda 9 comente sobre los resultados obtenidos con las metodologías usadas en los puntos 7 y 8, compare los resultados y enuncie posibles ventajas o desventajas de cada una de ellas."
   ]
  },
  {
   "cell_type": "code",
   "execution_count": 70,
   "metadata": {},
   "outputs": [
    {
     "data": {
      "image/png": "[encoded data removed]",
      "text/plain": [
       "<Figure size 640x480 with 1 Axes>"
      ]
     },
     "metadata": {},
     "output_type": "display_data"
    },
    {
     "data": {
      "image/png": "[encoded data removed]",
      "text/plain": [
       "<Figure size 640x480 with 1 Axes>"
      ]
     },
     "metadata": {},
     "output_type": "display_data"
    }
   ],
   "source": [
    "# Celda 9\n",
    "\n",
    "#ACCURACY\n",
    "metrics = ['Votación Mayoritaria', 'Votación Ponderada']\n",
    "values = [accuracy_mayoritaria,accuracy_ponderada]\n",
    "\n",
    "plt.bar(metrics, values, color=['blue', 'green'])\n",
    "\n",
    "plt.xlabel('Accuracy')\n",
    "plt.ylabel('Valor')\n",
    "plt.title('Accuracy en Votación Mayoritaria y Ponderada')\n",
    "\n",
    "for i, v in enumerate(values):\n",
    "    plt.text(i, v + 0.01, str(v), ha='center', va='bottom', fontsize=12)\n",
    "\n",
    "plt.show()\n",
    "\n",
    "#F1-Score\n",
    "\n",
    "metrics = ['Votación Mayoritaria', 'Votación Ponderada']\n",
    "values = [f1_mayoritaria,f1_ponderada]\n",
    "\n",
    "plt.bar(metrics, values, color=['blue', 'green'])\n",
    "\n",
    "plt.xlabel('F1-Score')\n",
    "plt.ylabel('Valor')\n",
    "plt.title('F1_Score en Votación Mayoritaria y Ponderada')\n",
    "\n",
    "for i, v in enumerate(values):\n",
    "    plt.text(i, v + 0.01, str(v), ha='center', va='bottom', fontsize=12)\n",
    "\n",
    "plt.show()\n"
   ]
  },
  {
   "cell_type": "markdown",
   "metadata": {},
   "source": [
    "En este caso, la votación ponderada alcanzó un mejor accuracy (0.6495) y F1-score (0.6378) que la votación mayoritaria, aunque la diferencia es pequeña. La ventaja principal de la votación ponderada es que otorga mayor peso a los clasificadores más precisos, lo que puede ser beneficioso cuando los modelos son heterogéneos y tienen rendimientos diferentes, lo que sucede en este caso y podemos entender al comparar el rendimiento de los arboles de decisión vs la regresión logística. No obstante, su efectividad depende de un ajuste adecuado de los pesos. Si los pesos no se asignan correctamente, podría terminar favoreciendo a clasificadores débiles.\n",
    "\n",
    "Por otro lado, la votación mayoritaria es más robusta frente a clasificadores de bajo rendimiento, ya que se basa en la decisión de la mayoría. Su principal desventaja es que no tiene en cuenta la calidad de los clasificadores individuales, lo que puede ser problemático si algunos modelos son significativamente mejores que otros. Sin embargo, vale le pena volver a resaltar que la diferencia entre las dos votaciones fue mínima, lo que indica que en este caso, ambos métodos tienen sus ventajas y limitaciones."
   ]
  },
  {
   "cell_type": "markdown",
   "metadata": {},
   "source": [
    "No obstante, es importante mencionar que los modelos (ensamblados) que tuvieron mejor rendimiento fueron los arboles de decisión, especialmente el que se controló con el max_depth. Estos también se ensamblaron con votación mayoritaria. Esto puede ocurrir porque al incluir la regresión logística, que tiene un rendimiento inferior, en el ensamblaje, se reduce el rendimiento general del modelo."
   ]
  }
 ],
 "metadata": {
  "kernelspec": {
   "display_name": "Python 3 (ipykernel)",
   "language": "python",
   "name": "python3"
  },
  "language_info": {
   "codemirror_mode": {
    "name": "ipython",
    "version": 3
   },
   "file_extension": ".py",
   "mimetype": "text/x-python",
   "name": "python",
   "nbconvert_exporter": "python",
   "pygments_lexer": "ipython3",
   "version": "3.12.4"
  }
 },
 "nbformat": 4,
 "nbformat_minor": 4
}
